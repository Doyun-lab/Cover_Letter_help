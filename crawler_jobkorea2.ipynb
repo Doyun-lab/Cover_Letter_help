{
 "cells": [
  {
   "cell_type": "code",
   "execution_count": null,
   "metadata": {},
   "outputs": [],
   "source": [
    "import pandas as pd\n",
    "import re\n",
    "import requests\n",
    "from urllib.request import urlopen\n",
    "from bs4 import BeautifulSoup\n",
    "\n",
    "\n",
    "# 질문, 답변, 조언, 스펙, 평가, 총평 가져오기\n",
    "def jobkorea2(column=\"주소\"):\n",
    "    \n",
    "    jobkorea1 = pd.read_csv(\"./jobkorea1.csv\")\n",
    "    result = pd.DataFrame()\n",
    "    \n",
    "    for i in range(jobkorea1.shape[0]):\n",
    "        url = jobkorea1.loc[i, column]\n",
    "        \n",
    "        try:\n",
    "            html = urlopen(url)\n",
    "            soup = BeautifulSoup(html, \"lxml\")\n",
    "            \n",
    "            speclists = soup.findAll(\"ul\", attrs={\"class\": \"specLists\"})[0].text\n",
    "            \n",
    "            grade = soup.findAll(\"span\", attrs={\"class\": \"grade\"})[0].text\n",
    "            \n",
    "            advice_Total = soup.findAll(\"div\",\n",
    "                                        attrs={\"class\": \"adviceTotal\"})[0].findAll(\"p\", attrs={\"class\": \"tx\"})[0].text\n",
    "            \n",
    "            questions = list(map(lambda x: x.text,\n",
    "                                 soup.findAll(\"dl\", attrs={\"class\": \"qnaLists\"})[0].findAll(\"span\", attrs={\"class\": \"tx\"})))\n",
    "            \n",
    "            answers = list(map(lambda x: x.text,\n",
    "                               soup.findAll(\"dl\", attrs={\"class\": \"qnaLists\"})[0].findAll(\"div\", attrs={\"class\": \"tx\"})))\n",
    "            \n",
    "            advices = soup.findAll(\"dd\", attrs={\"class\": \"show\"})\n",
    "            \n",
    "            advices = list(map(lambda x: x.findAll(\"div\",\n",
    "                                                   attrs={\"class\": \"advice\"})[0].text, advices))\n",
    "            \n",
    "            for j in range(len(answers) - len(advices)):\n",
    "                advice = soup.findAll(\"dd\",\n",
    "                                      attrs={\"class\": \"\"})[-(j+1)].findAll(\"div\", attrs={\"class\": \"advice\"})[0].text\n",
    "                \n",
    "                advices.append(advice)\n",
    "                \n",
    "            sup = pd.DataFrame({\"질문\": questions, \"답변\": answers, \"조언\": advices})\n",
    "            sup[\"스펙\"] = speclists\n",
    "            sup[\"평가\"] = grade\n",
    "            sup[\"총평\"] = advice_Total\n",
    "            sup[\"주소\"] = url\n",
    "            \n",
    "            result = result.append(sup)\n",
    "                \n",
    "        except:\n",
    "            continue\n",
    "    \n",
    "    return result.reset_index(drop=True)"
   ]
  }
 ],
 "metadata": {
  "kernelspec": {
   "display_name": "Python 3",
   "language": "python",
   "name": "python3"
  },
  "language_info": {
   "codemirror_mode": {
    "name": "ipython",
    "version": 3
   },
   "file_extension": ".py",
   "mimetype": "text/x-python",
   "name": "python",
   "nbconvert_exporter": "python",
   "pygments_lexer": "ipython3",
   "version": "3.7.6"
  }
 },
 "nbformat": 4,
 "nbformat_minor": 4
}
