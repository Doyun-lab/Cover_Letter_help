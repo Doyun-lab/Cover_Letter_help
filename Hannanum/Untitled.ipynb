{
 "cells": [
  {
   "cell_type": "code",
   "execution_count": 1,
   "metadata": {},
   "outputs": [],
   "source": [
    "import os\n",
    "\n",
    "os.chdir(\"/home/u1025/2020_text_mining\")"
   ]
  },
  {
   "cell_type": "code",
   "execution_count": 7,
   "metadata": {},
   "outputs": [],
   "source": [
    "from job_answer_preprocess import preprocess_answer # 전처리 함수 불러오기\n",
    "from konlpy.tag import Hannanum\n",
    "import numpy as np\n",
    "import pandas as pd"
   ]
  },
  {
   "cell_type": "code",
   "execution_count": 3,
   "metadata": {},
   "outputs": [],
   "source": [
    "data = pd.read_csv(\"/home/u1025/2020_text_mining/jobkorea_all.csv\")"
   ]
  },
  {
   "cell_type": "code",
   "execution_count": 4,
   "metadata": {},
   "outputs": [
    {
     "data": {
      "text/plain": [
       "0    \\r\\n\"능동적인 직무 수행의 기회 코리아세븐\"\\r 유통업에 대한 관심으로 백화점에...\n",
       "1    \\r\\n\"내 가족, 내 물건같이 생각하는 책임감\"\\r 대학교에서 경제학을 전공하며 ...\n",
       "2    \\r\\n\"열정과 창의, 능동성을 통한 성과\"\\r 직접 제안한 아이디어를 통해 좋은 ...\n",
       "Name: 답변, dtype: object"
      ]
     },
     "execution_count": 4,
     "metadata": {},
     "output_type": "execute_result"
    }
   ],
   "source": [
    "data['답변'].head(3)"
   ]
  },
  {
   "cell_type": "code",
   "execution_count": 6,
   "metadata": {},
   "outputs": [
    {
     "data": {
      "text/plain": [
       "0    능동적인 직무 수행의 기회 코리아세븐 유통업에 대한 관심으로 백화점에서 다년간 ar...\n",
       "1    내 가족 내 물건같이 생각하는 책임감 대학교에서 경제학을 전공하며 배운 다양한 경제...\n",
       "2    열정과 창의 능동성을 통한 성과 직접 제안한 아이디어를 통해 좋은 성과를 얻은 경험...\n",
       "Name: 답변, dtype: object"
      ]
     },
     "execution_count": 6,
     "metadata": {},
     "output_type": "execute_result"
    }
   ],
   "source": [
    "data = preprocess_answer(data)\n",
    "data['답변'].head(3)"
   ]
  },
  {
   "cell_type": "code",
   "execution_count": 9,
   "metadata": {},
   "outputs": [
    {
     "data": {
      "text/html": [
       "<div>\n",
       "<style scoped>\n",
       "    .dataframe tbody tr th:only-of-type {\n",
       "        vertical-align: middle;\n",
       "    }\n",
       "\n",
       "    .dataframe tbody tr th {\n",
       "        vertical-align: top;\n",
       "    }\n",
       "\n",
       "    .dataframe thead th {\n",
       "        text-align: right;\n",
       "    }\n",
       "</style>\n",
       "<table border=\"1\" class=\"dataframe\">\n",
       "  <thead>\n",
       "    <tr style=\"text-align: right;\">\n",
       "      <th></th>\n",
       "      <th>직무분야</th>\n",
       "      <th>답변</th>\n",
       "    </tr>\n",
       "  </thead>\n",
       "  <tbody>\n",
       "    <tr>\n",
       "      <th>0</th>\n",
       "      <td>영업관리·지원·영업기획</td>\n",
       "      <td>능동적인 직무 수행의 기회 코리아세븐 유통업에 대한 관심으로 백화점에서 다년간 ar...</td>\n",
       "    </tr>\n",
       "    <tr>\n",
       "      <th>1</th>\n",
       "      <td>영업관리·지원·영업기획</td>\n",
       "      <td>내 가족 내 물건같이 생각하는 책임감 대학교에서 경제학을 전공하며 배운 다양한 경제...</td>\n",
       "    </tr>\n",
       "    <tr>\n",
       "      <th>2</th>\n",
       "      <td>영업관리·지원·영업기획</td>\n",
       "      <td>열정과 창의 능동성을 통한 성과 직접 제안한 아이디어를 통해 좋은 성과를 얻은 경험...</td>\n",
       "    </tr>\n",
       "    <tr>\n",
       "      <th>3</th>\n",
       "      <td>영업관리·지원·영업기획</td>\n",
       "      <td>역량 발전을 위한 노력 데이터 분석능력 소통능력 코리아세븐의 영업관리 직무 수행에 ...</td>\n",
       "    </tr>\n",
       "    <tr>\n",
       "      <th>4</th>\n",
       "      <td>영업관리·지원·영업기획</td>\n",
       "      <td>편안한 서비스 상권과 시즌에 맞는 운영 최근 세븐일레븐은 라스트오더라는 앱과 제휴하...</td>\n",
       "    </tr>\n",
       "  </tbody>\n",
       "</table>\n",
       "</div>"
      ],
      "text/plain": [
       "           직무분야                                                 답변\n",
       "0  영업관리·지원·영업기획  능동적인 직무 수행의 기회 코리아세븐 유통업에 대한 관심으로 백화점에서 다년간 ar...\n",
       "1  영업관리·지원·영업기획  내 가족 내 물건같이 생각하는 책임감 대학교에서 경제학을 전공하며 배운 다양한 경제...\n",
       "2  영업관리·지원·영업기획  열정과 창의 능동성을 통한 성과 직접 제안한 아이디어를 통해 좋은 성과를 얻은 경험...\n",
       "3  영업관리·지원·영업기획  역량 발전을 위한 노력 데이터 분석능력 소통능력 코리아세븐의 영업관리 직무 수행에 ...\n",
       "4  영업관리·지원·영업기획  편안한 서비스 상권과 시즌에 맞는 운영 최근 세븐일레븐은 라스트오더라는 앱과 제휴하..."
      ]
     },
     "execution_count": 9,
     "metadata": {},
     "output_type": "execute_result"
    }
   ],
   "source": [
    "data2 = data[['직무분야','답변']]\n",
    "data2.head()"
   ]
  },
  {
   "cell_type": "code",
   "execution_count": 13,
   "metadata": {},
   "outputs": [
    {
     "data": {
      "text/plain": [
       "CS관리·강의            18\n",
       "DBA·데이터베이스         14\n",
       "ERP·시스템분석·설계      183\n",
       "HTML·퍼블리싱·UI개발     19\n",
       "IT·디자인·컴퓨터강사      264\n",
       "                 ... \n",
       "해외영업·무역영업         481\n",
       "홍보·PR              54\n",
       "화학·에너지·환경         673\n",
       "환경·플랜트             48\n",
       "회계·세무·CPA          23\n",
       "Name: 직무분야, Length: 95, dtype: int64"
      ]
     },
     "execution_count": 13,
     "metadata": {},
     "output_type": "execute_result"
    }
   ],
   "source": [
    "data2['직무분야'].value_counts().sort_index()"
   ]
  },
  {
   "cell_type": "code",
   "execution_count": 14,
   "metadata": {},
   "outputs": [
    {
     "name": "stdout",
     "output_type": "stream",
     "text": [
      "pandas version:  1.1.3\n"
     ]
    }
   ],
   "source": [
    "print(\"pandas version: \", pd.__version__)\n",
    "pd.set_option('display.max_row', 100)\n",
    "pd.set_option('display.max_columns', 100)"
   ]
  },
  {
   "cell_type": "code",
   "execution_count": 15,
   "metadata": {},
   "outputs": [
    {
     "data": {
      "text/plain": [
       "CS관리·강의              18\n",
       "DBA·데이터베이스           14\n",
       "ERP·시스템분석·설계        183\n",
       "HTML·퍼블리싱·UI개발       19\n",
       "IT·디자인·컴퓨터강사        264\n",
       "IT·솔루션·기술영업         199\n",
       "QA·테스터·검증            98\n",
       "간호사                  50\n",
       "감독·연출·PD              6\n",
       "건축·설계·인테리어          323\n",
       "게임                    4\n",
       "경리·회계·결산            386\n",
       "경영분석·컨설턴트            29\n",
       "고객상담·인바운드           119\n",
       "공연·전시·무대·스텝           3\n",
       "광고·시각디자인              2\n",
       "광고영업                  7\n",
       "광고제작·카피·CF            4\n",
       "구매·자재               269\n",
       "그래픽디자인·CG            15\n",
       "금융·보험영업            1137\n",
       "기계설계·CAD·CAM        210\n",
       "기자                    5\n",
       "기획·전략·경영           1489\n",
       "네트워크·서버·보안          479\n",
       "노무·헤드헌터·직업상담          3\n",
       "대학교수·강사·행정직          11\n",
       "레저·스포츠                6\n",
       "리서치·통계·설문            90\n",
       "마케팅·광고·분석           769\n",
       "바이오·제약·식품            52\n",
       "반도체·디스플레이           570\n",
       "배송·택배·운송             13\n",
       "법률·특허·상표              3\n",
       "법인영업                 74\n",
       "보습학원·입시학원             6\n",
       "부동산·중개·분양·경매         27\n",
       "비서·안내                28\n",
       "빅데이터·AI(인공지능)        69\n",
       "사무·총무·법무           2385\n",
       "사무보조·문서작성           124\n",
       "사회복지·요양보호·자원봉사       26\n",
       "상품기획·MD             215\n",
       "생산·제조·설비·조립         453\n",
       "생산관리·공정관리·품질관리     2269\n",
       "설치·정비·A/S            79\n",
       "섬유·의류·패션              7\n",
       "소프트웨어·하드웨어           42\n",
       "수출입·무역사무             23\n",
       "시공·현장·감리·공무         270\n",
       "시설·보안·경비·안전         204\n",
       "시스템프로그래머            663\n",
       "아웃바운드TM               8\n",
       "여행·항공·숙박             70\n",
       "연구소·R&D               4\n",
       "영상·사진·촬영             16\n",
       "영업관리·지원·영업기획       2045\n",
       "영화·배급                 3\n",
       "외국어·번역·통역            18\n",
       "외국어교육                 4\n",
       "요리·영양·제과제빵·바리스타      39\n",
       "운전·기사                 4\n",
       "웹기획·PM              101\n",
       "웹디자인                  3\n",
       "웹프로그래머              494\n",
       "유통·물류·재고            774\n",
       "음악·음향                 1\n",
       "응용프로그래머            1480\n",
       "의료기사                  6\n",
       "의료직기타                 4\n",
       "의류·패션·잡화디자인          14\n",
       "의사·치과·한의사            34\n",
       "인사·노무·교육            501\n",
       "자격증·기술·전문교육          28\n",
       "자동차·조선·기계           757\n",
       "재무·세무·IR            412\n",
       "전기·소방·통신·안전         256\n",
       "전기·전자·제어           1114\n",
       "전시·컨벤션                7\n",
       "제품·산업디자인             13\n",
       "제품·서비스영업           1822\n",
       "채권·심사·보험·보상          55\n",
       "출판·편집디자인              4\n",
       "캐릭터·애니메이션             3\n",
       "컨텐츠·사이트운영             3\n",
       "토목·조경·도시·측량          16\n",
       "통신기술·네트워크구축         185\n",
       "판매·서빙·매장관리          162\n",
       "학습지·과외·방문교사           9\n",
       "학원상담·관리·운영           13\n",
       "해외영업·무역영업           481\n",
       "홍보·PR                54\n",
       "화학·에너지·환경           673\n",
       "환경·플랜트               48\n",
       "회계·세무·CPA            23\n",
       "Name: 직무분야, dtype: int64"
      ]
     },
     "execution_count": 15,
     "metadata": {},
     "output_type": "execute_result"
    }
   ],
   "source": [
    "data2['직무분야'].value_counts().sort_index()"
   ]
  },
  {
   "cell_type": "code",
   "execution_count": 21,
   "metadata": {},
   "outputs": [
    {
     "data": {
      "text/plain": [
       "DBA·데이터베이스    14\n",
       "Name: 직무분야, dtype: int64"
      ]
     },
     "execution_count": 21,
     "metadata": {},
     "output_type": "execute_result"
    }
   ],
   "source": [
    "DBA = data2['직무분야'].str.contains('DBA·데이터베이스')\n",
    "DBA = data2[DBA]\n",
    "DBA['직무분야'].value_counts() # DBA만 포함되어 있는지 확인"
   ]
  },
  {
   "cell_type": "code",
   "execution_count": 22,
   "metadata": {},
   "outputs": [],
   "source": [
    "DBA = DBA.reset_index()"
   ]
  },
  {
   "cell_type": "code",
   "execution_count": 23,
   "metadata": {},
   "outputs": [],
   "source": [
    "hannanum = Hannanum()"
   ]
  },
  {
   "cell_type": "code",
   "execution_count": null,
   "metadata": {},
   "outputs": [],
   "source": []
  }
 ],
 "metadata": {
  "kernelspec": {
   "display_name": "Python 3",
   "language": "python",
   "name": "python3"
  },
  "language_info": {
   "codemirror_mode": {
    "name": "ipython",
    "version": 3
   },
   "file_extension": ".py",
   "mimetype": "text/x-python",
   "name": "python",
   "nbconvert_exporter": "python",
   "pygments_lexer": "ipython3",
   "version": "3.7.2"
  }
 },
 "nbformat": 4,
 "nbformat_minor": 4
}
